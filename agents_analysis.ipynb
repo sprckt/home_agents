{
 "cells": [
  {
   "cell_type": "markdown",
   "metadata": {},
   "source": [
    "# Home Agents Dataset Analysis"
   ]
  },
  {
   "cell_type": "code",
   "execution_count": 14,
   "metadata": {},
   "outputs": [],
   "source": [
    "import pandas as pd\n",
    "import numpy as np\n",
    "import matplotlib.pyplot as plt\n",
    "from matplotlib import colors as colours"
   ]
  },
  {
   "cell_type": "code",
   "execution_count": 2,
   "metadata": {},
   "outputs": [],
   "source": [
    "data = pd.read_excel('agency_market_report_07Dec2017.xlsx')"
   ]
  },
  {
   "cell_type": "code",
   "execution_count": 3,
   "metadata": {},
   "outputs": [
    {
     "name": "stdout",
     "output_type": "stream",
     "text": [
      "<class 'pandas.core.frame.DataFrame'>\n",
      "RangeIndex: 17471 entries, 0 to 17470\n",
      "Data columns (total 18 columns):\n",
      "home_agent_id        17469 non-null float64\n",
      "agent_name           17469 non-null object\n",
      "address              17469 non-null object\n",
      "postcode             17469 non-null object\n",
      "phone_number         17458 non-null object\n",
      "email                17134 non-null object\n",
      "url                  15946 non-null object\n",
      "agent_group_code     9501 non-null object\n",
      "agent_group_name     9501 non-null object\n",
      "agent_group_count    9489 non-null float64\n",
      "mean_days_old        15369 non-null float64\n",
      "median_days_old      15369 non-null float64\n",
      "unsold_count         16250 non-null float64\n",
      "sold_count           16250 non-null float64\n",
      "Opp                  154 non-null float64\n",
      "mean_price           15732 non-null float64\n",
      "mwu_agent_id         10705 non-null float64\n",
      "portal_list          16814 non-null object\n",
      "dtypes: float64(9), object(9)\n",
      "memory usage: 2.4+ MB\n"
     ]
    }
   ],
   "source": [
    "data.info()"
   ]
  },
  {
   "cell_type": "code",
   "execution_count": 4,
   "metadata": {},
   "outputs": [
    {
     "data": {
      "text/html": [
       "<div>\n",
       "<style scoped>\n",
       "    .dataframe tbody tr th:only-of-type {\n",
       "        vertical-align: middle;\n",
       "    }\n",
       "\n",
       "    .dataframe tbody tr th {\n",
       "        vertical-align: top;\n",
       "    }\n",
       "\n",
       "    .dataframe thead th {\n",
       "        text-align: right;\n",
       "    }\n",
       "</style>\n",
       "<table border=\"1\" class=\"dataframe\">\n",
       "  <thead>\n",
       "    <tr style=\"text-align: right;\">\n",
       "      <th></th>\n",
       "      <th>home_agent_id</th>\n",
       "      <th>agent_name</th>\n",
       "      <th>address</th>\n",
       "      <th>postcode</th>\n",
       "      <th>phone_number</th>\n",
       "      <th>email</th>\n",
       "      <th>url</th>\n",
       "      <th>agent_group_code</th>\n",
       "      <th>agent_group_name</th>\n",
       "      <th>agent_group_count</th>\n",
       "      <th>mean_days_old</th>\n",
       "      <th>median_days_old</th>\n",
       "      <th>unsold_count</th>\n",
       "      <th>sold_count</th>\n",
       "      <th>Opp</th>\n",
       "      <th>mean_price</th>\n",
       "      <th>mwu_agent_id</th>\n",
       "      <th>portal_list</th>\n",
       "    </tr>\n",
       "  </thead>\n",
       "  <tbody>\n",
       "    <tr>\n",
       "      <th>0</th>\n",
       "      <td>841537.0</td>\n",
       "      <td>@Home Estate Agents</td>\n",
       "      <td>13 Moorland Road, Bath, BA2 3PL</td>\n",
       "      <td>BA2 3PL</td>\n",
       "      <td>01225 288199</td>\n",
       "      <td>sales@ahea.co.uk</td>\n",
       "      <td>http://www.ahea.co.uk</td>\n",
       "      <td>NaN</td>\n",
       "      <td>NaN</td>\n",
       "      <td>NaN</td>\n",
       "      <td>54.0</td>\n",
       "      <td>36.0</td>\n",
       "      <td>11.0</td>\n",
       "      <td>34.0</td>\n",
       "      <td>NaN</td>\n",
       "      <td>391805.0</td>\n",
       "      <td>21051.0</td>\n",
       "      <td>zoopla,rightmove,trinitymirror,primelocation</td>\n",
       "    </tr>\n",
       "    <tr>\n",
       "      <th>1</th>\n",
       "      <td>1271019.0</td>\n",
       "      <td>@home Estate and Letting Agents</td>\n",
       "      <td>22 Rolle Street Exmouth EX8 1NJ</td>\n",
       "      <td>EX8 1NJ</td>\n",
       "      <td>01395 225552</td>\n",
       "      <td>exmouth@athome-estateagents.co.uk</td>\n",
       "      <td>http://www.athome-estateagents.co.uk</td>\n",
       "      <td>NaN</td>\n",
       "      <td>NaN</td>\n",
       "      <td>NaN</td>\n",
       "      <td>56.0</td>\n",
       "      <td>24.0</td>\n",
       "      <td>6.0</td>\n",
       "      <td>23.0</td>\n",
       "      <td>NaN</td>\n",
       "      <td>250833.0</td>\n",
       "      <td>23036.0</td>\n",
       "      <td>tlhc,rightmove,mouseprice,acquaintcrm,onthemar...</td>\n",
       "    </tr>\n",
       "    <tr>\n",
       "      <th>2</th>\n",
       "      <td>18725.0</td>\n",
       "      <td>01 Estate Agents, Isle of Wight</td>\n",
       "      <td>17-21 High Street, Ventnor, PO38 1RZ</td>\n",
       "      <td>PO38 1RZ</td>\n",
       "      <td>01983 646053</td>\n",
       "      <td>info@01estateagents.com</td>\n",
       "      <td>http://www.01estateagents.com</td>\n",
       "      <td>NaN</td>\n",
       "      <td>NaN</td>\n",
       "      <td>NaN</td>\n",
       "      <td>297.0</td>\n",
       "      <td>200.0</td>\n",
       "      <td>16.0</td>\n",
       "      <td>8.0</td>\n",
       "      <td>NaN</td>\n",
       "      <td>365416.0</td>\n",
       "      <td>NaN</td>\n",
       "      <td>rightmove,onthemarket</td>\n",
       "    </tr>\n",
       "    <tr>\n",
       "      <th>3</th>\n",
       "      <td>266148.0</td>\n",
       "      <td>1 Click Homes Ltd, Leyton</td>\n",
       "      <td>320 High Road Leyton, London, E10 5PW</td>\n",
       "      <td>E10 5PW</td>\n",
       "      <td>0208 556 1212</td>\n",
       "      <td>info@oneclickhomes.co.uk</td>\n",
       "      <td>http://www.oneclickhomes.co.uk</td>\n",
       "      <td>NaN</td>\n",
       "      <td>NaN</td>\n",
       "      <td>NaN</td>\n",
       "      <td>87.0</td>\n",
       "      <td>68.0</td>\n",
       "      <td>10.0</td>\n",
       "      <td>9.0</td>\n",
       "      <td>NaN</td>\n",
       "      <td>507500.0</td>\n",
       "      <td>NaN</td>\n",
       "      <td>zoopla,rightmove,primelocation</td>\n",
       "    </tr>\n",
       "    <tr>\n",
       "      <th>4</th>\n",
       "      <td>281118.0</td>\n",
       "      <td>1 click move</td>\n",
       "      <td>292 Chorley Old Road, Bolton, BL1 4JU</td>\n",
       "      <td>BL1 4JU</td>\n",
       "      <td>0161 468 0796</td>\n",
       "      <td>info@1clickmove.co.uk</td>\n",
       "      <td>http://www.1clickmove.co.uk</td>\n",
       "      <td>NaN</td>\n",
       "      <td>NaN</td>\n",
       "      <td>NaN</td>\n",
       "      <td>105.0</td>\n",
       "      <td>117.0</td>\n",
       "      <td>13.0</td>\n",
       "      <td>7.0</td>\n",
       "      <td>NaN</td>\n",
       "      <td>121385.0</td>\n",
       "      <td>20846.0</td>\n",
       "      <td>zoopla,rightmove,primelocation</td>\n",
       "    </tr>\n",
       "    <tr>\n",
       "      <th>5</th>\n",
       "      <td>1367523.0</td>\n",
       "      <td>1 Clickproperties - Acton</td>\n",
       "      <td>4 Station Parade, Acton, W3 8HN</td>\n",
       "      <td>W3 8HN</td>\n",
       "      <td>020 8022 0904</td>\n",
       "      <td>NaN</td>\n",
       "      <td>NaN</td>\n",
       "      <td>NaN</td>\n",
       "      <td>NaN</td>\n",
       "      <td>NaN</td>\n",
       "      <td>37.0</td>\n",
       "      <td>40.0</td>\n",
       "      <td>3.0</td>\n",
       "      <td>0.0</td>\n",
       "      <td>NaN</td>\n",
       "      <td>322333.0</td>\n",
       "      <td>NaN</td>\n",
       "      <td>onthemarket</td>\n",
       "    </tr>\n",
       "    <tr>\n",
       "      <th>6</th>\n",
       "      <td>81749.0</td>\n",
       "      <td>1 For Homes</td>\n",
       "      <td>2 Paisley Road, Renfrew, PA4 8LT</td>\n",
       "      <td>PA4 8LT</td>\n",
       "      <td>0141 433 6653</td>\n",
       "      <td>info@pennylanehomes.com</td>\n",
       "      <td>http://www.pennylanehomes.com/</td>\n",
       "      <td>NaN</td>\n",
       "      <td>NaN</td>\n",
       "      <td>NaN</td>\n",
       "      <td>270.0</td>\n",
       "      <td>115.0</td>\n",
       "      <td>13.0</td>\n",
       "      <td>12.0</td>\n",
       "      <td>NaN</td>\n",
       "      <td>76959.0</td>\n",
       "      <td>NaN</td>\n",
       "      <td>tlhc,zoopla,rightmove,mouseprice,acquaintcrm,n...</td>\n",
       "    </tr>\n",
       "    <tr>\n",
       "      <th>7</th>\n",
       "      <td>886293.0</td>\n",
       "      <td>1 Property Services Ltd</td>\n",
       "      <td>28 Dryburgh Avenue, Rutherglen, G73 3EG</td>\n",
       "      <td>G73 3EG</td>\n",
       "      <td>01563 258 454</td>\n",
       "      <td>contact@dyerandco.co.uk</td>\n",
       "      <td>http://www.1propertyservices.co.uk</td>\n",
       "      <td>NaN</td>\n",
       "      <td>NaN</td>\n",
       "      <td>NaN</td>\n",
       "      <td>NaN</td>\n",
       "      <td>NaN</td>\n",
       "      <td>0.0</td>\n",
       "      <td>1.0</td>\n",
       "      <td>NaN</td>\n",
       "      <td>NaN</td>\n",
       "      <td>NaN</td>\n",
       "      <td>zoopla</td>\n",
       "    </tr>\n",
       "    <tr>\n",
       "      <th>8</th>\n",
       "      <td>924585.0</td>\n",
       "      <td>1 Residential Realtors, London</td>\n",
       "      <td>30 Harper Road, London, SE1 6AD</td>\n",
       "      <td>SE1 6AD</td>\n",
       "      <td>020 7768 2979</td>\n",
       "      <td>info@residentialrealtors.co.uk</td>\n",
       "      <td>http://www.residentialrealtors.co.uk</td>\n",
       "      <td>NaN</td>\n",
       "      <td>NaN</td>\n",
       "      <td>NaN</td>\n",
       "      <td>89.0</td>\n",
       "      <td>84.0</td>\n",
       "      <td>49.0</td>\n",
       "      <td>21.0</td>\n",
       "      <td>NaN</td>\n",
       "      <td>1648539.0</td>\n",
       "      <td>NaN</td>\n",
       "      <td>zoopla,rightmove,primelocation</td>\n",
       "    </tr>\n",
       "    <tr>\n",
       "      <th>9</th>\n",
       "      <td>498794.0</td>\n",
       "      <td>1 Stop Letting Shop</td>\n",
       "      <td>76 Mansel Street, Swansea, SA1 5TW</td>\n",
       "      <td>SA1 5TW</td>\n",
       "      <td>01792 925715</td>\n",
       "      <td>enquiries@1stoplettingshop.co.uk</td>\n",
       "      <td>http://www.1stoplettingshop.co.uk/</td>\n",
       "      <td>NaN</td>\n",
       "      <td>NaN</td>\n",
       "      <td>NaN</td>\n",
       "      <td>532.0</td>\n",
       "      <td>469.0</td>\n",
       "      <td>9.0</td>\n",
       "      <td>0.0</td>\n",
       "      <td>NaN</td>\n",
       "      <td>121721.0</td>\n",
       "      <td>NaN</td>\n",
       "      <td>zoopla,onthemarket,primelocation</td>\n",
       "    </tr>\n",
       "  </tbody>\n",
       "</table>\n",
       "</div>"
      ],
      "text/plain": [
       "   home_agent_id                       agent_name  \\\n",
       "0       841537.0              @Home Estate Agents   \n",
       "1      1271019.0  @home Estate and Letting Agents   \n",
       "2        18725.0  01 Estate Agents, Isle of Wight   \n",
       "3       266148.0        1 Click Homes Ltd, Leyton   \n",
       "4       281118.0                     1 click move   \n",
       "5      1367523.0        1 Clickproperties - Acton   \n",
       "6        81749.0                      1 For Homes   \n",
       "7       886293.0          1 Property Services Ltd   \n",
       "8       924585.0   1 Residential Realtors, London   \n",
       "9       498794.0              1 Stop Letting Shop   \n",
       "\n",
       "                                   address  postcode   phone_number  \\\n",
       "0          13 Moorland Road, Bath, BA2 3PL   BA2 3PL   01225 288199   \n",
       "1          22 Rolle Street Exmouth EX8 1NJ   EX8 1NJ   01395 225552   \n",
       "2     17-21 High Street, Ventnor, PO38 1RZ  PO38 1RZ   01983 646053   \n",
       "3    320 High Road Leyton, London, E10 5PW   E10 5PW  0208 556 1212   \n",
       "4    292 Chorley Old Road, Bolton, BL1 4JU   BL1 4JU  0161 468 0796   \n",
       "5          4 Station Parade, Acton, W3 8HN    W3 8HN  020 8022 0904   \n",
       "6         2 Paisley Road, Renfrew, PA4 8LT   PA4 8LT  0141 433 6653   \n",
       "7  28 Dryburgh Avenue, Rutherglen, G73 3EG   G73 3EG  01563 258 454   \n",
       "8          30 Harper Road, London, SE1 6AD   SE1 6AD  020 7768 2979   \n",
       "9       76 Mansel Street, Swansea, SA1 5TW   SA1 5TW   01792 925715   \n",
       "\n",
       "                               email                                   url  \\\n",
       "0                   sales@ahea.co.uk                 http://www.ahea.co.uk   \n",
       "1  exmouth@athome-estateagents.co.uk  http://www.athome-estateagents.co.uk   \n",
       "2            info@01estateagents.com         http://www.01estateagents.com   \n",
       "3           info@oneclickhomes.co.uk        http://www.oneclickhomes.co.uk   \n",
       "4              info@1clickmove.co.uk           http://www.1clickmove.co.uk   \n",
       "5                                NaN                                   NaN   \n",
       "6            info@pennylanehomes.com        http://www.pennylanehomes.com/   \n",
       "7            contact@dyerandco.co.uk    http://www.1propertyservices.co.uk   \n",
       "8     info@residentialrealtors.co.uk  http://www.residentialrealtors.co.uk   \n",
       "9   enquiries@1stoplettingshop.co.uk    http://www.1stoplettingshop.co.uk/   \n",
       "\n",
       "  agent_group_code agent_group_name  agent_group_count  mean_days_old  \\\n",
       "0              NaN              NaN                NaN           54.0   \n",
       "1              NaN              NaN                NaN           56.0   \n",
       "2              NaN              NaN                NaN          297.0   \n",
       "3              NaN              NaN                NaN           87.0   \n",
       "4              NaN              NaN                NaN          105.0   \n",
       "5              NaN              NaN                NaN           37.0   \n",
       "6              NaN              NaN                NaN          270.0   \n",
       "7              NaN              NaN                NaN            NaN   \n",
       "8              NaN              NaN                NaN           89.0   \n",
       "9              NaN              NaN                NaN          532.0   \n",
       "\n",
       "   median_days_old  unsold_count  sold_count  Opp  mean_price  mwu_agent_id  \\\n",
       "0             36.0          11.0        34.0  NaN    391805.0       21051.0   \n",
       "1             24.0           6.0        23.0  NaN    250833.0       23036.0   \n",
       "2            200.0          16.0         8.0  NaN    365416.0           NaN   \n",
       "3             68.0          10.0         9.0  NaN    507500.0           NaN   \n",
       "4            117.0          13.0         7.0  NaN    121385.0       20846.0   \n",
       "5             40.0           3.0         0.0  NaN    322333.0           NaN   \n",
       "6            115.0          13.0        12.0  NaN     76959.0           NaN   \n",
       "7              NaN           0.0         1.0  NaN         NaN           NaN   \n",
       "8             84.0          49.0        21.0  NaN   1648539.0           NaN   \n",
       "9            469.0           9.0         0.0  NaN    121721.0           NaN   \n",
       "\n",
       "                                         portal_list  \n",
       "0       zoopla,rightmove,trinitymirror,primelocation  \n",
       "1  tlhc,rightmove,mouseprice,acquaintcrm,onthemar...  \n",
       "2                              rightmove,onthemarket  \n",
       "3                     zoopla,rightmove,primelocation  \n",
       "4                     zoopla,rightmove,primelocation  \n",
       "5                                        onthemarket  \n",
       "6  tlhc,zoopla,rightmove,mouseprice,acquaintcrm,n...  \n",
       "7                                             zoopla  \n",
       "8                     zoopla,rightmove,primelocation  \n",
       "9                   zoopla,onthemarket,primelocation  "
      ]
     },
     "execution_count": 4,
     "metadata": {},
     "output_type": "execute_result"
    }
   ],
   "source": [
    "data.head(10)"
   ]
  },
  {
   "cell_type": "markdown",
   "metadata": {},
   "source": [
    "## Mean and Median Age of Unsold Properties"
   ]
  },
  {
   "cell_type": "code",
   "execution_count": 7,
   "metadata": {},
   "outputs": [
    {
     "data": {
      "text/plain": [
       "count    15369.000000\n",
       "mean       165.686317\n",
       "std        111.466192\n",
       "min         20.000000\n",
       "25%         99.000000\n",
       "50%        139.000000\n",
       "75%        200.000000\n",
       "max       2281.000000\n",
       "Name: mean_days_old, dtype: float64"
      ]
     },
     "execution_count": 7,
     "metadata": {},
     "output_type": "execute_result"
    },
    {
     "data": {
      "image/png": "[encoded data removed]",
      "text/plain": [
       "<Figure size 720x360 with 1 Axes>"
      ]
     },
     "metadata": {},
     "output_type": "display_data"
    }
   ],
   "source": [
    "# Mean column\n",
    "data['mean_days_old'].hist(bins=200, figsize=(10,5), histtype='bar')\n",
    "data['mean_days_old'].describe()"
   ]
  },
  {
   "cell_type": "code",
   "execution_count": 8,
   "metadata": {},
   "outputs": [
    {
     "data": {
      "text/plain": [
       "count    15369.000000\n",
       "mean       117.447264\n",
       "std         96.241383\n",
       "min         20.000000\n",
       "25%         68.000000\n",
       "50%         93.000000\n",
       "75%        138.000000\n",
       "max       2664.000000\n",
       "Name: median_days_old, dtype: float64"
      ]
     },
     "execution_count": 8,
     "metadata": {},
     "output_type": "execute_result"
    },
    {
     "data": {
      "image/png": "[encoded data removed]",
      "text/plain": [
       "<Figure size 720x360 with 1 Axes>"
      ]
     },
     "metadata": {},
     "output_type": "display_data"
    }
   ],
   "source": [
    "# Median column\n",
    "data['median_days_old'].hist(bins=200, figsize=(10,5), histtype='bar')\n",
    "data['median_days_old'].describe()"
   ]
  },
  {
   "cell_type": "code",
   "execution_count": 56,
   "metadata": {},
   "outputs": [
    {
     "data": {
      "text/plain": [
       "{'_is_copy': None, '_data': SingleBlockManager\n",
       " Items: Index(['count', 'mean', 'std', 'min', '25%', '50%', '75%', 'max'], dtype='object')\n",
       " FloatBlock: 8 dtype: float64, '_item_cache': {}, '_name': 'median_days_old', '_subtyp': 'series', '_index': Index(['count', 'mean', 'std', 'min', '25%', '50%', '75%', 'max'], dtype='object')}"
      ]
     },
     "execution_count": 56,
     "metadata": {},
     "output_type": "execute_result"
    }
   ],
   "source": [
    "data['median_days_old'].describe()"
   ]
  },
  {
   "cell_type": "code",
   "execution_count": 64,
   "metadata": {},
   "outputs": [
    {
     "data": {
      "text/plain": [
       "138.0"
      ]
     },
     "execution_count": 64,
     "metadata": {},
     "output_type": "execute_result"
    }
   ],
   "source": [
    "q = '75%'\n",
    "data['median_days_old'].describe()['75%']"
   ]
  },
  {
   "cell_type": "code",
   "execution_count": 66,
   "metadata": {},
   "outputs": [
    {
     "name": "stderr",
     "output_type": "stream",
     "text": [
      "/Users/eric/e-prop/sandbox/lib/python3.6/site-packages/numpy/lib/function_base.py:780: RuntimeWarning: invalid value encountered in greater_equal\n",
      "  keep = (tmp_a >= first_edge)\n",
      "/Users/eric/e-prop/sandbox/lib/python3.6/site-packages/numpy/lib/function_base.py:781: RuntimeWarning: invalid value encountered in less_equal\n",
      "  keep &= (tmp_a <= last_edge)\n"
     ]
    },
    {
     "data": {
      "image/png": "[encoded data removed]",
      "text/plain": [
       "<Figure size 1080x720 with 2 Axes>"
      ]
     },
     "metadata": {},
     "output_type": "display_data"
    }
   ],
   "source": [
    "# Reduced plot of both columns\n",
    "\n",
    "# Plot params\n",
    "n_bins = 100\n",
    "x_axis_range= (20,500)\n",
    "\n",
    "# Assign figure and supblots \n",
    "f, ax = plt.subplots(1,2, figsize=(15,10))\n",
    "f.suptitle('Median and Mean Distributions', fontsize='xx-large', color='red')\n",
    "\n",
    "# Columns to plot\n",
    "hist_col_names = ['mean_days_old', 'median_days_old']\n",
    "\n",
    "# Create subplots and assign colour variation\n",
    "for i, h in enumerate(hist_col_names):\n",
    "    \n",
    "    # N is the count in each bin, bins is the lower-limit of the bin \n",
    "    N, bins, patches = ax[i].hist(data[h], bins=n_bins, range=x_axis_range)\n",
    "    \n",
    "    # Colour code by height, but you could use any scalar\n",
    "    fracs = N/N.max()\n",
    "\n",
    "    # Reverse colour range \n",
    "    fracs = 1-fracs\n",
    "    \n",
    "    # Normalise the data to 0-->1 for the full range of the colormap\n",
    "    norm = colours.Normalize(fracs.min(), fracs.max())\n",
    "    \n",
    "    # Loop through objects and set the colour of each accordingly\n",
    "    for thisfrac, thispatch in zip(fracs, patches):\n",
    "        colour = plt.cm.plasma(norm(thisfrac))\n",
    "        thispatch.set_facecolor(colour)\n",
    "        \n",
    "    # Create plot labels\n",
    "    col_name_for_title = h.replace('_', ' ').title()\n",
    "    ax[i].set_title(col_name_for_title)\n",
    "    ax[i].set_xlabel('Average age of unsold properties')\n",
    "    ax[i].set_ylabel('Count of properties')\n",
    "    \n",
    "    # Vertical line at 75% quartile\n",
    "    third_quartile = data[h].describe()['75%']\n",
    "    ax[i].axvline(x=third_quartile, linewidth=2, color='green', linestyle='--')\n",
    "\n",
    "plt.show()"
   ]
  },
  {
   "cell_type": "markdown",
   "metadata": {},
   "source": [
    "## Mean Price"
   ]
  },
  {
   "cell_type": "code",
   "execution_count": 68,
   "metadata": {},
   "outputs": [
    {
     "data": {
      "text/plain": [
       "count    1.573200e+04\n",
       "mean     4.401671e+05\n",
       "std      5.470583e+05\n",
       "min      1.800000e+04\n",
       "25%      2.006392e+05\n",
       "50%      3.153590e+05\n",
       "75%      4.950000e+05\n",
       "max      2.200000e+07\n",
       "Name: mean_price, dtype: float64"
      ]
     },
     "execution_count": 68,
     "metadata": {},
     "output_type": "execute_result"
    }
   ],
   "source": [
    "data['mean_price'].describe()"
   ]
  },
  {
   "cell_type": "code",
   "execution_count": 77,
   "metadata": {},
   "outputs": [],
   "source": [
    "def colour_map_hist(ax, data_series, n_bins, plt_labels, x_axis_range=None):\n",
    "    \n",
    "    # If no x range provided, then this is full range of values\n",
    "    if not x_axis_range:\n",
    "        x_axis_range = (data_series.min(), data_series.max())\n",
    "\n",
    "    # N is the count in each bin, bins is the lower-limit of the bin\n",
    "    N, bins, patches = ax.hist(data_series, bins=n_bins, range=x_axis_range)\n",
    "\n",
    "    # Colour code by height, but you could use any scalar\n",
    "    fracs = N/N.max()\n",
    "\n",
    "    # Reverse colour range \n",
    "    fracs = 1-fracs\n",
    "\n",
    "    # Normalise the data to 0-->1 for the full range of the colormap\n",
    "    norm = colours.Normalize(fracs.min(), fracs.max())\n",
    "\n",
    "    # Loop through objects and set the colour of each accordingly\n",
    "    for thisfrac, thispatch in zip(fracs, patches):\n",
    "        colour = plt.cm.plasma(norm(thisfrac))\n",
    "        thispatch.set_facecolor(colour)\n",
    "\n",
    "    # Create plot labels\n",
    "    ax.set_title(plt_labels['title'])\n",
    "    ax.set_xlabel(plt_labels['x'])\n",
    "    ax.set_ylabel(plt_labels['y'])\n",
    "\n",
    "    # Vertical line at 75% quartile\n",
    "    third_quartile = data_series.describe()['75%']\n",
    "    ax.axvline(x=third_quartile, linewidth=2, color='green', linestyle='--')\n",
    "    return ax"
   ]
  },
  {
   "cell_type": "code",
   "execution_count": 81,
   "metadata": {},
   "outputs": [
    {
     "name": "stderr",
     "output_type": "stream",
     "text": [
      "/Users/eric/e-prop/sandbox/lib/python3.6/site-packages/numpy/lib/function_base.py:780: RuntimeWarning: invalid value encountered in greater_equal\n",
      "  keep = (tmp_a >= first_edge)\n",
      "/Users/eric/e-prop/sandbox/lib/python3.6/site-packages/numpy/lib/function_base.py:781: RuntimeWarning: invalid value encountered in less_equal\n",
      "  keep &= (tmp_a <= last_edge)\n"
     ]
    },
    {
     "data": {
      "image/png": "[encoded data removed]",
      "text/plain": [
       "<Figure size 1080x720 with 1 Axes>"
      ]
     },
     "metadata": {},
     "output_type": "display_data"
    }
   ],
   "source": [
    "f, ax = plt.subplots(1,1, figsize=(15,10))\n",
    "f.suptitle('Mean Price of Properties Sold', fontsize='xx-large', color='red')\n",
    "\n",
    "plt_labels = dict(title='Average of property prices', x='Sold price', y='Count')\n",
    "\n",
    "ax = colour_map_hist(ax=ax, data_series=data['mean_price'], n_bins=200, plt_labels=plt_labels, x_axis_range=(0, 5000000))\n",
    "\n",
    "plt.show()\n"
   ]
  },
  {
   "cell_type": "markdown",
   "metadata": {},
   "source": [
    "## To Dos"
   ]
  },
  {
   "cell_type": "markdown",
   "metadata": {},
   "source": [
    "* Clean data - get rid of Null/Error values\n",
    "* Do some research to validate these initial findings\n",
    "* Separate out London agents from rest of the country (can they be unfairly weighting the results)\n",
    "* Split results between agents who are part of a group and those that aren't\n",
    "* Work out annual property sales profile (how representative is this data of the rest of the year)\n",
    "* Segment by region - ultimately want to be able to work out how long it takes to sell a property. Best to do this by region\n"
   ]
  },
  {
   "cell_type": "markdown",
   "metadata": {},
   "source": [
    "## Resources"
   ]
  },
  {
   "cell_type": "markdown",
   "metadata": {},
   "source": [
    "https://www.acceleratehomes.co.uk/how-long-to-sell-a-house-in-the-uk/\n",
    "https://www.tepilo.com/blog/2017/12/how-long-does-the-average-uk-property-take-to-sell\n",
    "https://cebr.com/reports/rate-of-sale-the-average-uk-property-takes-91-days-to-sell/\n",
    "https://www.theadvisory.co.uk/house-selling/how-long-does-selling-take/"
   ]
  }
 ],
 "metadata": {
  "kernelspec": {
   "display_name": "Python 3",
   "language": "python",
   "name": "python3"
  },
  "language_info": {
   "codemirror_mode": {
    "name": "ipython",
    "version": 3
   },
   "file_extension": ".py",
   "mimetype": "text/x-python",
   "name": "python",
   "nbconvert_exporter": "python",
   "pygments_lexer": "ipython3",
   "version": "3.6.5"
  }
 },
 "nbformat": 4,
 "nbformat_minor": 2
}
